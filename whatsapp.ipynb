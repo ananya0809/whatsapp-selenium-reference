{
 "cells": [
  {
   "cell_type": "markdown",
   "metadata": {},
   "source": [
    "Installing Selenium"
   ]
  },
  {
   "cell_type": "code",
   "execution_count": null,
   "metadata": {},
   "outputs": [],
   "source": [
    "! pip install selenium"
   ]
  },
  {
   "cell_type": "markdown",
   "metadata": {},
   "source": [
    "Pre-run for Windows\n",
    "\n",
    "(Launch Chrome in an existing session at a given port (e.g. -remote-debugging-port=8989))\n",
    "\n",
    "(Change < dir > with your specific directory)"
   ]
  },
  {
   "cell_type": "code",
   "execution_count": null,
   "metadata": {},
   "outputs": [],
   "source": [
    "# !cd C:\\Program Files (x86)\\Google\\Chrome\\Application\n",
    "# !chrome.exe -remote-debugging-port=8989 --user-data-dir=<dir>"
   ]
  }
 ],
 "metadata": {
  "interpreter": {
   "hash": "c2d41119454a5ea8cec8ae7071e5a51e97cbd7fb7f04e3afd6db6502058cec47"
  },
  "kernelspec": {
   "display_name": "Python 3.9.7 ('base')",
   "language": "python",
   "name": "python3"
  },
  "language_info": {
   "codemirror_mode": {
    "name": "ipython",
    "version": 3
   },
   "file_extension": ".py",
   "mimetype": "text/x-python",
   "name": "python",
   "nbconvert_exporter": "python",
   "pygments_lexer": "ipython3",
   "version": "3.9.7"
  },
  "orig_nbformat": 4
 },
 "nbformat": 4,
 "nbformat_minor": 2
}
