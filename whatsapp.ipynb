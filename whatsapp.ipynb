{
 "cells": [
  {
   "cell_type": "markdown",
   "source": [
    "Install Selenium"
   ],
   "metadata": {}
  },
  {
   "cell_type": "code",
   "execution_count": null,
   "source": [
    "!pip install selenium"
   ],
   "outputs": [],
   "metadata": {}
  },
  {
   "cell_type": "markdown",
   "source": [
    "Import dependencies for Selenium"
   ],
   "metadata": {}
  },
  {
   "cell_type": "code",
   "execution_count": null,
   "source": [
    "from selenium import webdriver\n",
    "from selenium.webdriver import ChromeOptions\n",
    "from selenium.webdriver.common.by import By"
   ],
   "outputs": [],
   "metadata": {}
  },
  {
   "cell_type": "markdown",
   "source": [
    "## Preferred Browser is Chrome"
   ],
   "metadata": {}
  },
  {
   "cell_type": "markdown",
   "source": [
    "Pre-run for Windows\n",
    "\n",
    "(Launch Chrome in an existing session at a given port (e.g. -remote-debugging-port=8989))\n",
    "\n",
    "(Change < dir > with your specific directory)"
   ],
   "metadata": {}
  },
  {
   "cell_type": "code",
   "execution_count": null,
   "source": [
    "# !cd C:\\Program Files (x86)\\Google\\Chrome\\Application\n",
    "# !chrome.exe -remote-debugging-port=8989 --user-data-dir=<dir>"
   ],
   "outputs": [],
   "metadata": {}
  },
  {
   "cell_type": "markdown",
   "source": [
    "Pre-run for Linux"
   ],
   "metadata": {}
  },
  {
   "cell_type": "markdown",
   "source": [
    "Install Chromedriver"
   ],
   "metadata": {}
  },
  {
   "cell_type": "code",
   "execution_count": null,
   "source": [
    "!sudo apt install chromium-browser chromium-chromedriver # run this command on terminal for root access"
   ],
   "outputs": [],
   "metadata": {}
  },
  {
   "cell_type": "markdown",
   "source": [
    "Reading path to data directory from Config file"
   ],
   "metadata": {}
  },
  {
   "cell_type": "code",
   "execution_count": null,
   "source": [
    "import configparser\n",
    "from configparser import ConfigParser\n",
    "configread = configparser.ConfigParser()\n",
    "configread.read(\"sampleconfig.ini\")\n",
    "print (configread['data']['data_dir'])"
   ],
   "outputs": [],
   "metadata": {}
  },
  {
   "cell_type": "markdown",
   "source": [
    "Setup Chrome flags"
   ],
   "metadata": {}
  },
  {
   "cell_type": "code",
   "execution_count": null,
   "source": [
    "options = ChromeOptions()\n",
    "options.add_argument(\"--user-data-dir=\" + 'data_dir')\n",
    "# options.add_argument(\"--executable_path=/path_to/chromedriver\")"
   ],
   "outputs": [],
   "metadata": {}
  },
  {
   "cell_type": "markdown",
   "source": [
    "Launch Chrome driver instance"
   ],
   "metadata": {}
  },
  {
   "cell_type": "code",
   "execution_count": 30,
   "source": [
    "driver = webdriver.Chrome(options=options)"
   ],
   "outputs": [],
   "metadata": {}
  },
  {
   "cell_type": "markdown",
   "source": [
    "## Common code for all OS"
   ],
   "metadata": {}
  },
  {
   "cell_type": "markdown",
   "source": [
    "Launch WhatsApp Web"
   ],
   "metadata": {}
  },
  {
   "cell_type": "code",
   "execution_count": 31,
   "source": [
    "driver.get(\"https://web.whatsapp.com\")"
   ],
   "outputs": [],
   "metadata": {}
  },
  {
   "cell_type": "markdown",
   "source": [
    "### Note: Login with WhatsApp Web BETA\n",
    "\n",
    "For a first time login, scanning the QR code from phone is required, however, afterwards the login information will be saved for the particular chrome session that will be automated everytime this notebook is run."
   ],
   "metadata": {}
  },
  {
   "cell_type": "markdown",
   "source": [
    "Find and Click on the Search Box"
   ],
   "metadata": {}
  },
  {
   "cell_type": "code",
   "execution_count": null,
   "source": [
    "searchbox = driver.find_element(By.CLASS_NAME, \"_16C8p\")\n",
    "searchbox.click()"
   ],
   "outputs": [],
   "metadata": {}
  },
  {
   "cell_type": "markdown",
   "source": [
    "Search for a Saved Contact on Prompt"
   ],
   "metadata": {}
  },
  {
   "cell_type": "code",
   "execution_count": null,
   "source": [
    "driver.find_element(By.XPATH, \"//*[@id='side']/div[1]/div/div/div[2]/div/div[2]\").send_keys(\"ContactName\")"
   ],
   "outputs": [],
   "metadata": {}
  },
  {
   "cell_type": "markdown",
   "source": [
    "Find and Open the Desired Chat from a List of Personal Chat and Group Chats"
   ],
   "metadata": {}
  },
  {
   "cell_type": "code",
   "execution_count": null,
   "source": [
    "chats = driver.find_element(By.CLASS_NAME, \"YGe90\")\n",
    "users = driver.find_elements(By.CLASS_NAME, \"_3m_Xw\")\n",
    "for user in users:\n",
    "    if \"ContactName\" in str(user.find_element(By.CLASS_NAME, \"zoWT4\").text):\n",
    "        user.click()\n",
    "        break"
   ],
   "outputs": [],
   "metadata": {}
  }
 ],
 "metadata": {
  "interpreter": {
   "hash": "916dbcbb3f70747c44a77c7bcd40155683ae19c65e1c03b4aa3499c5328201f1"
  },
  "kernelspec": {
   "name": "python3",
   "display_name": "Python 3.9.7 64-bit"
  },
  "language_info": {
   "codemirror_mode": {
    "name": "ipython",
    "version": 3
   },
   "file_extension": ".py",
   "mimetype": "text/x-python",
   "name": "python",
   "nbconvert_exporter": "python",
   "pygments_lexer": "ipython3",
   "version": "3.9.7"
  },
  "orig_nbformat": 4
 },
 "nbformat": 4,
 "nbformat_minor": 2
}