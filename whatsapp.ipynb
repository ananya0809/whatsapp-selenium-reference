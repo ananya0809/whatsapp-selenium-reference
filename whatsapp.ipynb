{
 "cells": [
  {
   "cell_type": "markdown",
   "source": [
    "Installing Selenium"
   ],
   "metadata": {}
  },
  {
   "cell_type": "code",
   "execution_count": null,
   "source": [
    "! pip install selenium"
   ],
   "outputs": [],
   "metadata": {}
  },
  {
   "cell_type": "markdown",
   "source": [
    "Pre-run for Windows\n",
    "\n",
    "(Launch Chrome in an existing session at a given port (e.g. -remote-debugging-port=8989))\n",
    "\n",
    "(Change < dir > with your specific directory)"
   ],
   "metadata": {}
  },
  {
   "cell_type": "code",
   "execution_count": null,
   "source": [
    "# !cd C:\\Program Files (x86)\\Google\\Chrome\\Application\n",
    "# !chrome.exe -remote-debugging-port=8989 --user-data-dir=<dir>"
   ],
   "outputs": [],
   "metadata": {}
  },
  {
   "cell_type": "markdown",
   "source": [
    "Pre-run for Linux"
   ],
   "metadata": {}
  },
  {
   "cell_type": "markdown",
   "source": [
    "Installing Chromedriver"
   ],
   "metadata": {}
  },
  {
   "cell_type": "code",
   "execution_count": null,
   "source": [
    "! sudo apt install chromium-browser chromium-chromedriver "
   ],
   "outputs": [],
   "metadata": {}
  }
 ],
 "metadata": {
  "interpreter": {
   "hash": "c2d41119454a5ea8cec8ae7071e5a51e97cbd7fb7f04e3afd6db6502058cec47"
  },
  "kernelspec": {
   "display_name": "Python 3.9.7 ('base')",
   "language": "python",
   "name": "python3"
  },
  "language_info": {
   "codemirror_mode": {
    "name": "ipython",
    "version": 3
   },
   "file_extension": ".py",
   "mimetype": "text/x-python",
   "name": "python",
   "nbconvert_exporter": "python",
   "pygments_lexer": "ipython3",
   "version": "3.9.7"
  },
  "orig_nbformat": 4
 },
 "nbformat": 4,
 "nbformat_minor": 2
}